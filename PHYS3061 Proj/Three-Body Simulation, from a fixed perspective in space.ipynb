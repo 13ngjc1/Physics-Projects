{
 "cells": [
  {
   "cell_type": "markdown",
   "metadata": {},
   "source": [
    "# Three-Body Simulation, from a Fixed Perspective in Space"
   ]
  },
  {
   "cell_type": "markdown",
   "metadata": {},
   "source": [
    "An entire simulation of Centauri A, Centauri B and Proxima Centauri, from a fixed perspective in space."
   ]
  },
  {
   "cell_type": "markdown",
   "metadata": {},
   "source": [
    "**Importing modules**"
   ]
  },
  {
   "cell_type": "code",
   "execution_count": 1,
   "metadata": {},
   "outputs": [],
   "source": [
    "import math\n",
    "import matplotlib.pyplot as plt\n",
    "from mpl_toolkits.mplot3d import Axes3D\n",
    "from matplotlib import animation\n",
    "import numpy as np"
   ]
  },
  {
   "cell_type": "markdown",
   "metadata": {},
   "source": [
    "**Initialize positions and velocities of the stars**"
   ]
  },
  {
   "cell_type": "code",
   "execution_count": 1,
   "metadata": {},
   "outputs": [
    {
     "ename": "NameError",
     "evalue": "name 'np' is not defined",
     "output_type": "error",
     "traceback": [
      "\u001b[1;31m---------------------------------------------------------------------------\u001b[0m",
      "\u001b[1;31mNameError\u001b[0m                                 Traceback (most recent call last)",
      "\u001b[1;32m<ipython-input-1-1e092a466d8d>\u001b[0m in \u001b[0;36m<module>\u001b[1;34m\u001b[0m\n\u001b[0;32m      3\u001b[0m \u001b[0mposC\u001b[0m \u001b[1;33m=\u001b[0m \u001b[1;33m[\u001b[0m\u001b[1;36m13000\u001b[0m\u001b[1;33m,\u001b[0m\u001b[1;36m0\u001b[0m\u001b[1;33m,\u001b[0m\u001b[1;36m0\u001b[0m\u001b[1;33m]\u001b[0m\u001b[1;33m\u001b[0m\u001b[1;33m\u001b[0m\u001b[0m\n\u001b[0;32m      4\u001b[0m \u001b[1;33m\u001b[0m\u001b[0m\n\u001b[1;32m----> 5\u001b[1;33m \u001b[0mposA\u001b[0m \u001b[1;33m=\u001b[0m \u001b[0mnp\u001b[0m\u001b[1;33m.\u001b[0m\u001b[0marray\u001b[0m\u001b[1;33m(\u001b[0m\u001b[0mposA\u001b[0m\u001b[1;33m,\u001b[0m \u001b[0mdtype\u001b[0m\u001b[1;33m=\u001b[0m\u001b[1;34m\"float64\"\u001b[0m\u001b[1;33m)\u001b[0m\u001b[1;33m\u001b[0m\u001b[1;33m\u001b[0m\u001b[0m\n\u001b[0m\u001b[0;32m      6\u001b[0m \u001b[0mposB\u001b[0m \u001b[1;33m=\u001b[0m \u001b[0mnp\u001b[0m\u001b[1;33m.\u001b[0m\u001b[0marray\u001b[0m\u001b[1;33m(\u001b[0m\u001b[0mposB\u001b[0m\u001b[1;33m,\u001b[0m \u001b[0mdtype\u001b[0m\u001b[1;33m=\u001b[0m\u001b[1;34m\"float64\"\u001b[0m\u001b[1;33m)\u001b[0m\u001b[1;33m\u001b[0m\u001b[1;33m\u001b[0m\u001b[0m\n\u001b[0;32m      7\u001b[0m \u001b[0mposC\u001b[0m \u001b[1;33m=\u001b[0m \u001b[0mnp\u001b[0m\u001b[1;33m.\u001b[0m\u001b[0marray\u001b[0m\u001b[1;33m(\u001b[0m\u001b[0mposC\u001b[0m\u001b[1;33m,\u001b[0m \u001b[0mdtype\u001b[0m\u001b[1;33m=\u001b[0m\u001b[1;34m\"float64\"\u001b[0m\u001b[1;33m)\u001b[0m\u001b[1;33m\u001b[0m\u001b[1;33m\u001b[0m\u001b[0m\n",
      "\u001b[1;31mNameError\u001b[0m: name 'np' is not defined"
     ]
    }
   ],
   "source": [
    "posA = [0,0,0]\n",
    "posB = [1.12,0,0]\n",
    "posC = [13000,0,0]\n",
    "\n",
    "posA = np.array(posA, dtype=\"float64\")\n",
    "posB = np.array(posB, dtype=\"float64\")\n",
    "posC = np.array(posC, dtype=\"float64\")\n",
    "\n",
    "velA = [0.01,0.01,0]\n",
    "velB = [-0.05,0,-0.1]\n",
    "velC = [0,-0.01,0]\n",
    "\n",
    "velA = np.array(velA, dtype=\"float64\")\n",
    "velB = np.array(velB, dtype=\"float64\")\n",
    "velC = np.array(velC, dtype=\"float64\")"
   ]
  },
  {
   "cell_type": "markdown",
   "metadata": {},
   "source": [
    "**Define constants and scale-down constants**"
   ]
  },
  {
   "cell_type": "code",
   "execution_count": 3,
   "metadata": {},
   "outputs": [],
   "source": [
    "G=6.67408e-11 #N-m2/kg2\n",
    "\n",
    "m_nd=1.989e+30 #kg #mass of the sun\n",
    "r_nd=5.326e+12 #m #distance between stars in Alpha Centauri\n",
    "v_nd=30000 #m/s #relative velocity of earth around the sun\n",
    "t_nd=79.91*365*24*3600*0.51 #s #orbital period of Alpha Centauri\n",
    "\n",
    "#mass of the bodies\n",
    "mA = 1.1\n",
    "mB = 0.907\n",
    "mC = 0.1221\n",
    "\n",
    "#de-dimensionalizing constant\n",
    "K1=G*t_nd*m_nd/(r_nd**2*v_nd)\n",
    "K2=v_nd*t_nd/r_nd"
   ]
  },
  {
   "cell_type": "markdown",
   "metadata": {},
   "source": [
    "**Initialize three body equations**"
   ]
  },
  {
   "cell_type": "code",
   "execution_count": 8,
   "metadata": {},
   "outputs": [],
   "source": [
    "def threebodyequations(derivarray,t,G,mA,mB):\n",
    "    posA = derivarray[:3]\n",
    "    posB = derivarray[3:6]\n",
    "    posC = derivarray[6:9]\n",
    "    velA = derivarray[9:12]\n",
    "    velB = derivarray[12:15]\n",
    "    velC = derivarray[15:18]\n",
    "    \n",
    "    rAB = np.linalg.norm(posB-posA)\n",
    "    rAC = np.linalg.norm(posC-posA)\n",
    "    rBC = np.linalg.norm(posC-posB)\n",
    "    \n",
    "    dvelAdt = K1*mB*(posB-posA)/rAB**3 + K1*mC*(posC-posA)/rAC**3\n",
    "    dvelBdt = K1*mA*(posA-posB)/rAB**3 + K1*mC*(posC-posB)/rBC**3\n",
    "    dvelCdt = K1*mB*(posB-posC)/rBC**3 + K1*mA*(posA-posC)/rAC**3\n",
    "    dposAdt = K2*velA\n",
    "    dposBdt = K2*velB\n",
    "    dposCdt = K2*velC\n",
    "    \n",
    "    rABderivs = np.concatenate((dposAdt, dposBdt))\n",
    "    rDerivs = np.concatenate((rABderivs, dposCdt))\n",
    "    vABderivs = np.concatenate((dvelAdt, dvelBdt))\n",
    "    vDerivs = np.concatenate((vABderivs, dvelCdt))\n",
    "    derivs = np.concatenate((rDerivs, vDerivs))\n",
    "    return derivs"
   ]
  },
  {
   "cell_type": "markdown",
   "metadata": {},
   "source": [
    "**Initial conditions**"
   ]
  },
  {
   "cell_type": "code",
   "execution_count": 5,
   "metadata": {},
   "outputs": [],
   "source": [
    "initParams = np.array([posA,posB,posC,velA,velB,velC])\n",
    "initParams = initParams.flatten()\n",
    "timeSpan = np.linspace(0,20,1200)"
   ]
  },
  {
   "cell_type": "markdown",
   "metadata": {},
   "source": [
    "**ODE Solver**"
   ]
  },
  {
   "cell_type": "code",
   "execution_count": 9,
   "metadata": {},
   "outputs": [],
   "source": [
    "import scipy.integrate\n",
    "\n",
    "threebodysol = scipy.integrate.odeint(threebodyequations, initParams, timeSpan, args = (G,mA,mB))\n",
    "posAsol = threebodysol[:,:3]\n",
    "posBsol = threebodysol[:,3:6]\n",
    "posCsol = threebodysol[:,6:9]"
   ]
  },
  {
   "cell_type": "markdown",
   "metadata": {},
   "source": [
    "**Plot output**"
   ]
  },
  {
   "cell_type": "code",
   "execution_count": 2,
   "metadata": {},
   "outputs": [
    {
     "ename": "NameError",
     "evalue": "name 'plt' is not defined",
     "output_type": "error",
     "traceback": [
      "\u001b[1;31m---------------------------------------------------------------------------\u001b[0m",
      "\u001b[1;31mNameError\u001b[0m                                 Traceback (most recent call last)",
      "\u001b[1;32m<ipython-input-2-1fab99ec8f3c>\u001b[0m in \u001b[0;36m<module>\u001b[1;34m\u001b[0m\n\u001b[1;32m----> 1\u001b[1;33m \u001b[0mfig\u001b[0m \u001b[1;33m=\u001b[0m \u001b[0mplt\u001b[0m\u001b[1;33m.\u001b[0m\u001b[0mfigure\u001b[0m\u001b[1;33m(\u001b[0m\u001b[0mfigsize\u001b[0m \u001b[1;33m=\u001b[0m \u001b[1;33m(\u001b[0m\u001b[1;36m15\u001b[0m\u001b[1;33m,\u001b[0m\u001b[1;36m15\u001b[0m\u001b[1;33m)\u001b[0m\u001b[1;33m)\u001b[0m\u001b[1;33m\u001b[0m\u001b[1;33m\u001b[0m\u001b[0m\n\u001b[0m\u001b[0;32m      2\u001b[0m \u001b[0max\u001b[0m \u001b[1;33m=\u001b[0m \u001b[0mfig\u001b[0m\u001b[1;33m.\u001b[0m\u001b[0madd_subplot\u001b[0m\u001b[1;33m(\u001b[0m\u001b[0mprojection\u001b[0m \u001b[1;33m=\u001b[0m \u001b[1;34m\"3d\"\u001b[0m\u001b[1;33m)\u001b[0m\u001b[1;33m\u001b[0m\u001b[1;33m\u001b[0m\u001b[0m\n\u001b[0;32m      3\u001b[0m \u001b[1;33m\u001b[0m\u001b[0m\n\u001b[0;32m      4\u001b[0m \u001b[1;31m#orbit plot\u001b[0m\u001b[1;33m\u001b[0m\u001b[1;33m\u001b[0m\u001b[1;33m\u001b[0m\u001b[0m\n\u001b[0;32m      5\u001b[0m \u001b[0max\u001b[0m\u001b[1;33m.\u001b[0m\u001b[0mplot\u001b[0m\u001b[1;33m(\u001b[0m\u001b[0mposAsol\u001b[0m\u001b[1;33m[\u001b[0m\u001b[1;33m:\u001b[0m\u001b[1;33m,\u001b[0m\u001b[1;36m0\u001b[0m\u001b[1;33m]\u001b[0m\u001b[1;33m,\u001b[0m \u001b[0mposAsol\u001b[0m\u001b[1;33m[\u001b[0m\u001b[1;33m:\u001b[0m\u001b[1;33m,\u001b[0m\u001b[1;36m1\u001b[0m\u001b[1;33m]\u001b[0m\u001b[1;33m,\u001b[0m \u001b[0mposAsol\u001b[0m\u001b[1;33m[\u001b[0m\u001b[1;33m:\u001b[0m\u001b[1;33m,\u001b[0m\u001b[1;36m2\u001b[0m\u001b[1;33m]\u001b[0m\u001b[1;33m,\u001b[0m \u001b[0mcolor\u001b[0m \u001b[1;33m=\u001b[0m \u001b[1;34m\"blue\"\u001b[0m\u001b[1;33m)\u001b[0m\u001b[1;33m\u001b[0m\u001b[1;33m\u001b[0m\u001b[0m\n",
      "\u001b[1;31mNameError\u001b[0m: name 'plt' is not defined"
     ]
    }
   ],
   "source": [
    "fig = plt.figure(figsize = (15,15))\n",
    "ax = fig.add_subplot(projection = \"3d\")\n",
    "\n",
    "#orbit plot\n",
    "ax.plot(posAsol[:,0], posAsol[:,1], posAsol[:,2], color = \"blue\")\n",
    "ax.plot(posBsol[:,0], posBsol[:,1], posBsol[:,2], color = \"red\")\n",
    "ax.plot(posCsol[:,0], posCsol[:,1], posCsol[:,2], color = \"green\")\n",
    "\n",
    "#final position plot\n",
    "ax.scatter(posAsol[-1,0], posAsol[-1,1], posAsol[-1,2], color = \"blue\", marker = \"o\", s=100, label = \"Alpha Centauri A\")\n",
    "ax.scatter(posBsol[-1,0], posBsol[-1,1], posBsol[-1,2], color = \"red\", marker = \"o\", s=100, label = \"Alpha Centauri B\")\n",
    "ax.scatter(posCsol[-1,0], posCsol[-1,1], posCsol[-1,2], color = \"green\", marker = \"o\", s=100, label = \"Proxima Centauri\")\n",
    "\n",
    "#add more details\n",
    "ax.set_xlabel(\"x-coordinate\", fontsize = 14)\n",
    "ax.set_ylabel(\"y-coordinate\", fontsize = 14)\n",
    "ax.set_zlabel(\"z-coordinate\", fontsize = 14)\n",
    "ax.set_title(\"Visualization of orbits\\n\", fontsize = 14)\n",
    "ax.legend(loc=\"upper right\", fontsize = 14)"
   ]
  },
  {
   "cell_type": "code",
   "execution_count": null,
   "metadata": {},
   "outputs": [],
   "source": []
  }
 ],
 "metadata": {
  "kernelspec": {
   "display_name": "Python 3",
   "language": "python",
   "name": "python3"
  },
  "language_info": {
   "codemirror_mode": {
    "name": "ipython",
    "version": 3
   },
   "file_extension": ".py",
   "mimetype": "text/x-python",
   "name": "python",
   "nbconvert_exporter": "python",
   "pygments_lexer": "ipython3",
   "version": "3.7.6"
  }
 },
 "nbformat": 4,
 "nbformat_minor": 4
}
